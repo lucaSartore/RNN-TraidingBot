{
 "cells": [
  {
   "cell_type": "markdown",
   "metadata": {},
   "source": [
    "# The objective\n",
    "This analysis compares some investing scenarios, in particular:\n",
    " - Investing 10$ every opening day\n",
    " - Investing 50$ every 5 opening days\n",
    " - Investing 210$ every 21 opening days\n",
    " - Investing 1000$ every 100 opening days\n",
    " - investing 2500$ every 250 opening days\n",
    "The studies will be conducted over 10 years choosing a random starting date"
   ]
  },
  {
   "cell_type": "code",
   "execution_count": 27,
   "metadata": {},
   "outputs": [],
   "source": [
    "from datetime import date, timedelta\n",
    "from simulator import Simulator\n",
    "import numpy as np\n",
    "from random import randint"
   ]
  },
  {
   "cell_type": "code",
   "execution_count": 28,
   "metadata": {},
   "outputs": [],
   "source": [
    "class Config:\n",
    "    def __init__(self, day_to_wait: int, amount_to_invest: float):\n",
    "        self.day_to_wait = day_to_wait\n",
    "        self.amount_to_invest = amount_to_invest\n",
    "\n",
    "    def __str__(self):\n",
    "        return f\"Investing {self.amount_to_invest}$ every {self.day_to_wait} days\"\n",
    "    \n",
    "configs = [\n",
    "    Config(1, 10),\n",
    "    Config(5,50),\n",
    "    Config(20, 200),\n",
    "    Config(100,1000),\n",
    "    Config(250, 2500)\n",
    "]"
   ]
  },
  {
   "cell_type": "code",
   "execution_count": 29,
   "metadata": {},
   "outputs": [],
   "source": [
    "\n",
    "# get the ROI for a given config, node 2500 trading days are about 10 years in the nyse\n",
    "def get_roi(config: Config, start_date: date, number_of_days: int = 2500) -> float:\n",
    "    \n",
    "    simulator = Simulator(start_date=start_date, end_date=None,start_cash=0)\n",
    "\n",
    "    day_passed = 0\n",
    "\n",
    "    while day_passed < number_of_days:\n",
    "        for _ in range(config.day_to_wait):\n",
    "            simulator.next_day()\n",
    "        simulator.insert_funds(config.amount_to_invest)\n",
    "        simulator.buy()\n",
    "        #print(\"investing\")\n",
    "\n",
    "        day_passed += config.day_to_wait\n",
    "\n",
    "    return simulator.get_current_roi()\n"
   ]
  },
  {
   "cell_type": "code",
   "execution_count": 30,
   "metadata": {},
   "outputs": [],
   "source": [
    "Simulator.load_dataset()\n",
    "START: date = Simulator.MIN_DATE\n",
    "END: date = Simulator.MAX_DATE - timedelta(days=365*11)\n",
    "DAY_DIFFERENCE: int = (END - START).days\n",
    "\n",
    "def get_random_date() -> date:\n",
    "    return START + timedelta(days=randint(0,DAY_DIFFERENCE))"
   ]
  },
  {
   "cell_type": "code",
   "execution_count": 31,
   "metadata": {},
   "outputs": [],
   "source": [
    "# return average roi and standard deviation of roi\n",
    "def calculate_average_roi(config: Config, start_days_to_test: list[date]) -> (float, float):\n",
    "    roi_list = []\n",
    "    for start_day in start_days_to_test:\n",
    "        roi_list.append(get_roi(config, start_day))\n",
    "    return np.average(roi_list), np.std(roi_list)"
   ]
  },
  {
   "cell_type": "code",
   "execution_count": 32,
   "metadata": {},
   "outputs": [],
   "source": [
    "class Result:\n",
    "    def __init__(self, config: Config, average_roi: float, std_dev: float):\n",
    "        self.config = config\n",
    "        self.average_roi = average_roi\n",
    "        self.std_dev = std_dev\n",
    "    \n",
    "    def __str__(self):\n",
    "        return f\"{self.config}\\nAverage ROI: {self.average_roi}\\nStandard Deviation: {self.std_dev}\"\n",
    "    \n",
    "def calculate_roi_for_config(config: Config, start_days_to_test: list[date]) -> Result:\n",
    "    average_roi, std_dev = calculate_average_roi(config, start_days_to_test)\n",
    "    return Result(config, average_roi, std_dev)"
   ]
  },
  {
   "cell_type": "code",
   "execution_count": 34,
   "metadata": {},
   "outputs": [
    {
     "name": "stdout",
     "output_type": "stream",
     "text": [
      "Investing 10$ every 1 days\n",
      "Average ROI: 35.964000000000006\n",
      "Standard Deviation: 22.89296057743515\n",
      "\n",
      "Investing 50$ every 5 days\n",
      "Average ROI: 36.001999999999995\n",
      "Standard Deviation: 22.885885956195796\n",
      "\n",
      "Investing 200$ every 20 days\n",
      "Average ROI: 36.22500000000001\n",
      "Standard Deviation: 22.825628249842325\n",
      "\n",
      "Investing 1000$ every 100 days\n",
      "Average ROI: 37.386\n",
      "Standard Deviation: 22.59691890501889\n",
      "\n",
      "Investing 2500$ every 250 days\n",
      "Average ROI: 39.587\n",
      "Standard Deviation: 24.144545988690698\n",
      "\n"
     ]
    }
   ],
   "source": [
    "NUMBER_OF_TESTS = 10\n",
    "\n",
    "days_to_test = [get_random_date() for _ in range(NUMBER_OF_TESTS)]\n",
    "\n",
    "for config in configs:\n",
    "    print(calculate_roi_for_config(config, days_to_test))\n",
    "    print()"
   ]
  }
 ],
 "metadata": {
  "kernelspec": {
   "display_name": "Python 3",
   "language": "python",
   "name": "python3"
  },
  "language_info": {
   "codemirror_mode": {
    "name": "ipython",
    "version": 3
   },
   "file_extension": ".py",
   "mimetype": "text/x-python",
   "name": "python",
   "nbconvert_exporter": "python",
   "pygments_lexer": "ipython3",
   "version": "3.12.1"
  }
 },
 "nbformat": 4,
 "nbformat_minor": 2
}
