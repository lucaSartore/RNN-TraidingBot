{
 "cells": [
  {
   "cell_type": "markdown",
   "metadata": {},
   "source": [
    "# The objective\n",
    "This analysis compares some investing scenarios, in particular:\n",
    " - Investing 10$ every opening day\n",
    " - Investing 50$ every 5 opening days\n",
    " - Investing 210$ every 21 opening days\n",
    " - Investing 1000$ every 100 opening days\n",
    " - investing 2500$ every 250 opening days\n",
    "The studies will be conducted over 10 years choosing a random starting date"
   ]
  },
  {
   "cell_type": "code",
   "execution_count": 1,
   "metadata": {},
   "outputs": [],
   "source": [
    "class Config:\n",
    "    def __init__(self, day_to_wait: int, amount_to_invest: float):\n",
    "        self.day_to_wait = day_to_wait\n",
    "        self.amount_to_invest = amount_to_invest\n",
    "\n",
    "    def __str__(self):\n",
    "        return f\"Investing {self.amount_to_invest}$ every {self.day_to_wait} days\"\n",
    "    \n",
    "configs = [\n",
    "    Config(1, 10),\n",
    "    Config(5,50),\n",
    "    Config(20, 200),\n",
    "    Config(100,1000),\n",
    "    Config(250, 2500)\n",
    "]"
   ]
  },
  {
   "cell_type": "code",
   "execution_count": 2,
   "metadata": {},
   "outputs": [
    {
     "ename": "ModuleNotFoundError",
     "evalue": "No module named 'pandas'",
     "output_type": "error",
     "traceback": [
      "\u001b[1;31m---------------------------------------------------------------------------\u001b[0m",
      "\u001b[1;31mModuleNotFoundError\u001b[0m                       Traceback (most recent call last)",
      "Cell \u001b[1;32mIn[2], line 2\u001b[0m\n\u001b[0;32m      1\u001b[0m \u001b[38;5;28;01mfrom\u001b[39;00m \u001b[38;5;21;01mdatetime\u001b[39;00m \u001b[38;5;28;01mimport\u001b[39;00m date\n\u001b[1;32m----> 2\u001b[0m \u001b[38;5;28;01mfrom\u001b[39;00m \u001b[38;5;21;01msimulator\u001b[39;00m \u001b[38;5;28;01mimport\u001b[39;00m Simulator\n\u001b[0;32m      4\u001b[0m \u001b[38;5;66;03m# get the ROI for a given config, node 2500 trading days are about 10 years in the nyse\u001b[39;00m\n\u001b[0;32m      5\u001b[0m \u001b[38;5;28;01mdef\u001b[39;00m \u001b[38;5;21mget_roi\u001b[39m(config: Config, start_date: date, number_of_days: \u001b[38;5;28mint\u001b[39m \u001b[38;5;241m=\u001b[39m \u001b[38;5;241m2500\u001b[39m) \u001b[38;5;241m-\u001b[39m\u001b[38;5;241m>\u001b[39m \u001b[38;5;28mfloat\u001b[39m:\n",
      "File \u001b[1;32mc:\\Users\\lucas\\Desktop\\RNN-TraidingBot\\simulator.py:9\u001b[0m\n\u001b[0;32m      7\u001b[0m \u001b[38;5;28;01mfrom\u001b[39;00m \u001b[38;5;21;01mdatetime\u001b[39;00m \u001b[38;5;28;01mimport\u001b[39;00m timedelta\n\u001b[0;32m      8\u001b[0m \u001b[38;5;28;01mfrom\u001b[39;00m \u001b[38;5;21;01mdatetime\u001b[39;00m \u001b[38;5;28;01mimport\u001b[39;00m date\n\u001b[1;32m----> 9\u001b[0m \u001b[38;5;28;01mimport\u001b[39;00m \u001b[38;5;21;01mpandas\u001b[39;00m \u001b[38;5;28;01mas\u001b[39;00m \u001b[38;5;21;01mpd\u001b[39;00m\n\u001b[0;32m     11\u001b[0m \u001b[38;5;66;03m# difference between the buy and sell price\u001b[39;00m\n\u001b[0;32m     12\u001b[0m SPREAD \u001b[38;5;241m=\u001b[39m \u001b[38;5;241m0.005\u001b[39m \u001b[38;5;66;03m# % over the price\u001b[39;00m\n",
      "\u001b[1;31mModuleNotFoundError\u001b[0m: No module named 'pandas'"
     ]
    }
   ],
   "source": [
    "from datetime import date\n",
    "from simulator import Simulator\n",
    "\n",
    "# get the ROI for a given config, node 2500 trading days are about 10 years in the nyse\n",
    "def get_roi(config: Config, start_date: date, number_of_days: int = 2500) -> float:\n",
    "    \n",
    "    simulator = Simulator(start_date=start_date, end_date=None,start_cash=0)\n",
    "\n",
    "    day_passed = 0\n",
    "\n",
    "    while day_passed < number_of_days:\n",
    "        simulator.insert_funds(config.amount_to_invest)\n",
    "        simulator.buy()\n",
    "        print(\"investing\")\n",
    "        for _ in range(config.day_to_wait):\n",
    "            simulator.next_day()\n",
    "        day_passed += config.day_to_wait\n",
    "\n",
    "    return simulator.get_roi()\n",
    "\n",
    "print(get_roi(configs[-1], date(2010,1,1)))"
   ]
  }
 ],
 "metadata": {
  "kernelspec": {
   "display_name": "Python 3",
   "language": "python",
   "name": "python3"
  },
  "language_info": {
   "codemirror_mode": {
    "name": "ipython",
    "version": 3
   },
   "file_extension": ".py",
   "mimetype": "text/x-python",
   "name": "python",
   "nbconvert_exporter": "python",
   "pygments_lexer": "ipython3",
   "version": "3.12.1"
  }
 },
 "nbformat": 4,
 "nbformat_minor": 2
}
